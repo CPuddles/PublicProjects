{
 "cells": [
  {
   "cell_type": "code",
   "execution_count": null,
   "metadata": {},
   "outputs": [],
   "source": [
    "import os\n",
    "import openpyxl\n",
    "import shutil \n",
    "\n",
    "wb = openpyxl.load_workbook(r\"....\") #Access the workbook on my desktop\n",
    "\n",
    "ws = wb[\"...\"]\n",
    "\n",
    "root_path = r\"...\"\n",
    "\n",
    "folder_list = [ws.cell(row=i, column=3).value for i in range(2, 186)] #Takes contents of Column C in the worksheet and adds them to a list\n",
    "\n",
    "directories = []\n",
    "\n",
    "for items in folder_list:\n",
    "    path = os.path.join(root_path, items)\n",
    "    os.mkdir(path) #For every row in the worksheet column with bundle names, create a folder\n",
    "    directories.append(os.path.abspath(path))\n",
    "\n",
    "original_name_list = [ws.cell(row=i, column=1).value for i in range(2, 285)] #List of old names (inclusive start, exclusive end)\n",
    "\n",
    "new_name_list = [ws.cell(row=i, column=2).value for i in range(2, 285)] \n",
    "\n",
    "dict_names = dict(zip(original_name_list, new_name_list)) #Dictionary of old names(keys) and new names(values)\n",
    "dict_folders = dict(zip(folder_list, directories)) #Dictionary of directory names and their paths\n",
    "\n",
    "files_renamed = 0\n",
    "for file in os.listdir(root_path): #This accesses the folder where all of the images are and iterates through it, renames where there's a match with value of dictionary match\n",
    "    file_name = os.path.basename(os.path.abspath(file)) \n",
    "    original_file_extension = os.path.join(root_path, file_name) \n",
    "    for key in dict_names: \n",
    "        if key == file_name:\n",
    "            new_name = os.path.join(root_path, dict_names[key])\n",
    "            os.rename(original_file_extension, new_name) #Rename the files with the values from the key matches\n",
    "            files_renamed += 1\n",
    "        else:\n",
    "            continue\n",
    "\n",
    "folders_created = 0\n",
    "files_moved = 0\n",
    "\n",
    "for file in os.listdir(root_path):\n",
    "    if file[-4:] == '.jpg' or file[-4:] == '.png': #Isolate the files, exclude the directories\n",
    "        name_wo_extension = os.path.splitext(os.path.basename(file))[0]\n",
    "        for key in dict_folders:\n",
    "            if key == name_wo_extension:\n",
    "                shutil.move(os.path.join(root_path, file), os.path.join(dict_folders[key], os.path.basename(file))) #Move the files to the directories with matching names\n",
    "                files_moved += 1\n",
    "    else:\n",
    "        folders_created += 1\n",
    "    \n",
    "print(\"Of the \" + str(len(directories)) + \" folders to create, \" + str(folders_created) + \" were created.\")\n",
    "print(\"Of the \" + str(len(original_name_list)) + \" files to rename, \" + str(files_renamed) + \" were renamed.\")\n",
    "print(\"Of the \" + str(len(original_name_list)) + \" files to move, \" + str(files_moved) + \" were moved.\")\n"
   ]
  },
  {
   "cell_type": "code",
   "execution_count": null,
   "metadata": {},
   "outputs": [],
   "source": []
  }
 ],
 "metadata": {
  "kernelspec": {
   "display_name": "Python 3",
   "language": "python",
   "name": "python3"
  },
  "language_info": {
   "codemirror_mode": {
    "name": "ipython",
    "version": 3
   },
   "file_extension": ".py",
   "mimetype": "text/x-python",
   "name": "python",
   "nbconvert_exporter": "python",
   "pygments_lexer": "ipython3",
   "version": "3.12.0"
  }
 },
 "nbformat": 4,
 "nbformat_minor": 2
}
